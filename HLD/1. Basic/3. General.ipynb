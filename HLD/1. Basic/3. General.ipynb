{
 "cells": [
  {
   "cell_type": "markdown",
   "metadata": {},
   "source": [
    "# Disk vs Memory \n",
    "\n",
    "| Property        | **Disk (Storage)**               | **Memory (RAM)**                 |\n",
    "| --------------- | -------------------------------- | -------------------------------- |\n",
    "| **Purpose**     | Long-term storage                | Short-term, temporary workspace  |\n",
    "| **Speed**       | Slow (milliseconds)              | Very fast (nanoseconds)          |\n",
    "| **Persistence** | Data **persists** after shutdown | Data **vanishes** when power off |\n",
    "| **Capacity**    | Large (terabytes)                | Smaller (gigabytes)              |\n",
    "| **Cost per GB** | Cheaper                          | More expensive                   |\n",
    "| **Examples**    | HDD, SSD                         | DRAM, DDR4/5                     |\n",
    "\n"
   ]
  },
  {
   "cell_type": "markdown",
   "metadata": {},
   "source": [
    "\n",
    "Think of It Like This:\n",
    "\n",
    "| Analogy                 | Meaning                                                                        |\n",
    "| ----------------------- | ------------------------------------------------------------------------------ |\n",
    "| 💾 **Disk = Bookshelf** | Where you *store* all your books (permanent, big, but slow to reach)           |\n",
    "| 🧠 **Memory = Desk**    | Where you *keep open books* you’re reading right now (fast, but limited space) |\n",
    "\n"
   ]
  },
  {
   "cell_type": "markdown",
   "metadata": {},
   "source": [
    "\n",
    "Example:\n",
    "When your computer runs a program:\n",
    "\n",
    "1. The program is stored on disk (say, SSD).\n",
    "\n",
    "2. When you open it, the OS loads it into RAM.\n",
    "\n",
    "3. CPU reads data from RAM (not directly from disk, because RAM is much faster).\n",
    "So memory (RAM) acts as the bridge between the CPU and disk.\n",
    "\n",
    "\n"
   ]
  },
  {
   "cell_type": "markdown",
   "metadata": {},
   "source": [
    "\n",
    "Speed Comparison (Approximate)\n",
    "\n",
    "| Component    | Time to Access Data    |\n",
    "| ------------ | ---------------------- |\n",
    "| CPU Cache    | ~1 ns                  |\n",
    "| Memory (RAM) | ~100 ns                |\n",
    "| SSD          | ~100 µs (100,000 ns)   |\n",
    "| HDD          | ~10 ms (10,000,000 ns) |\n",
    "\n",
    "\n"
   ]
  },
  {
   "cell_type": "markdown",
   "metadata": {},
   "source": [
    "\n",
    "Combined System View\n",
    "\n",
    "| Layer                    | Technology                    | Storage Type  | Purpose                     |\n",
    "| ------------------------ | ----------------------------- | ------------- | --------------------------- |\n",
    "| **CPU Cache**            | L1/L2 Cache                   | In-CPU memory | Super fast operations       |\n",
    "| **Main Memory (RAM)**    | DRAM                          | Memory        | Active program data         |\n",
    "| **Disk (SSD/HDD)**       | Storage                       | Persistent    | Files, databases            |\n",
    "| **Cloud Disk**           | AWS EBS / GCP Persistent Disk | Storage       | Virtualized persistent disk |\n",
    "| **Cloud Object Storage** | AWS S3 / GCP Storage          | Storage       | Large file backup           |\n",
    "| **Cloud Memory Cache**   | Redis / Memcached             | Memory        | Fast, temporary data store  |\n",
    "\n"
   ]
  },
  {
   "cell_type": "markdown",
   "metadata": {},
   "source": [
    "| Concept         | Disk             | Memory             | Cloud                               |\n",
    "| --------------- | ---------------- | ------------------ | ----------------------------------- |\n",
    "| **Speed**       | Slow             | Very fast          | Depends on network                  |\n",
    "| **Persistence** | Permanent        | Temporary          | Depends on service                  |\n",
    "| **Capacity**    | High             | Limited            | Elastic                             |\n",
    "| **Use Case**    | File storage, DB | Cache, computation | Scalable storage or caching         |\n",
    "| **Example**     | SSD, HDD         | RAM                | AWS S3 (disk), Redis Cloud (memory) |\n"
   ]
  },
  {
   "cell_type": "markdown",
   "metadata": {},
   "source": [
    "# Bandwidth vs Latency"
   ]
  },
  {
   "cell_type": "markdown",
   "metadata": {},
   "source": [
    "| **Term**      | **What It Means**                                                                                       | **Analogy**                                                                          | **Measured In**       | **Goal (Good If...)** |\n",
    "| ------------- | ------------------------------------------------------------------------------------------------------- | ------------------------------------------------------------------------------------ | --------------------- | --------------------- |\n",
    "| **Bandwidth** | The *maximum amount of data* that can be transferred per second. It’s about **capacity**.               | Like the **width of a highway** — more lanes mean more cars (data) can move at once. | **Mbps**, **Gbps**    | Higher is better 🚀   |\n",
    "| **Latency**   | The *time delay* it takes for data to travel from sender to receiver. It’s about **speed of response**. | Like the **time it takes for the first car** to reach its destination.               | **Milliseconds (ms)** | Lower is better ⚡     |\n"
   ]
  },
  {
   "cell_type": "code",
   "execution_count": null,
   "metadata": {
    "vscode": {
     "languageId": "plaintext"
    }
   },
   "outputs": [],
   "source": []
  }
 ],
 "metadata": {
  "language_info": {
   "name": "python"
  }
 },
 "nbformat": 4,
 "nbformat_minor": 2
}
